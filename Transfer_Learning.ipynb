{
  "nbformat": 4,
  "nbformat_minor": 0,
  "metadata": {
    "colab": {
      "provenance": [],
      "authorship_tag": "ABX9TyOhCNd6OyfaLoof/qbF1qWu",
      "include_colab_link": true
    },
    "kernelspec": {
      "name": "python3",
      "display_name": "Python 3"
    },
    "language_info": {
      "name": "python"
    }
  },
  "cells": [
    {
      "cell_type": "markdown",
      "metadata": {
        "id": "view-in-github",
        "colab_type": "text"
      },
      "source": [
        "<a href=\"https://colab.research.google.com/github/Behnam9473/AI/blob/main/Transfer_Learning.ipynb\" target=\"_parent\"><img src=\"https://colab.research.google.com/assets/colab-badge.svg\" alt=\"Open In Colab\"/></a>"
      ]
    },
    {
      "cell_type": "markdown",
      "source": [
        "Step 1: Import Necessary Libraries\n",
        "\n",
        "First, we need to import the necessary libraries.\n",
        "\n"
      ],
      "metadata": {
        "id": "-8IqmGKsw2_D"
      }
    },
    {
      "cell_type": "code",
      "execution_count": null,
      "metadata": {
        "id": "7_mOcQYmwe3l"
      },
      "outputs": [],
      "source": [
        "import numpy as np\n",
        "import tensorflow as tf\n",
        "from tensorflow.keras.preprocessing.image import ImageDataGenerator\n",
        "from tensorflow.keras.applications.vgg16 import VGG16\n",
        "from tensorflow.keras.layers import Dense, Flatten\n",
        "from tensorflow.keras.models import Model\n",
        "from tensorflow.keras.optimizers import Adam"
      ]
    },
    {
      "cell_type": "markdown",
      "source": [
        "Step 2: Load and Preprocess Data\n",
        "\n",
        "Next, let's load and preprocess the data. We will use Keras' ImageDataGenerator to load images from directories.\n",
        "\n",
        "\n"
      ],
      "metadata": {
        "id": "ENEfIuJQw7qt"
      }
    },
    {
      "cell_type": "code",
      "source": [
        "# Set paths to the data directories\n",
        "train_dir = '/path/to/train'\n",
        "validation_dir = '/path/to/validation'\n",
        "\n",
        "# Create ImageDataGenerators for training and validation data\n",
        "train_datagen = ImageDataGenerator(\n",
        "    rescale=1.0/255.0,\n",
        "    shear_range=0.2,\n",
        "    zoom_range=0.2,\n",
        "    horizontal_flip=True\n",
        ")\n",
        "\n",
        "validation_datagen = ImageDataGenerator(rescale=1.0/255.0)\n",
        "\n",
        "train_generator = train_datagen.flow_from_directory(\n",
        "    train_dir,\n",
        "    target_size=(224, 224),\n",
        "    batch_size=32,\n",
        "    class_mode='binary'\n",
        ")\n",
        "\n",
        "validation_generator = validation_datagen.flow_from_directory(\n",
        "    validation_dir,\n",
        "    target_size=(224, 224),\n",
        "    batch_size=32,\n",
        "    class_mode='binary'\n",
        ")\n"
      ],
      "metadata": {
        "id": "9CPc8zNExChd"
      },
      "execution_count": null,
      "outputs": []
    },
    {
      "cell_type": "markdown",
      "source": [
        "Step 3: Load Pre-trained VGG16 Model\n",
        "\n",
        "We will load the VGG16 model without the top (fully connected) layers."
      ],
      "metadata": {
        "id": "wIkUZ2u7xJF6"
      }
    },
    {
      "cell_type": "code",
      "source": [
        "# Load the VGG16 model, excluding the top fully connected layers\n",
        "base_model = VGG16(weights='imagenet', include_top=False, input_shape=(224, 224, 3))\n"
      ],
      "metadata": {
        "id": "Oqsf5zq6xKrq"
      },
      "execution_count": null,
      "outputs": []
    },
    {
      "cell_type": "markdown",
      "source": [
        "Step 4: Add Custom Layers\n",
        "\n",
        "We will add our own fully connected layers on top of the VGG16 base model."
      ],
      "metadata": {
        "id": "gxtHLX5-xM-1"
      }
    },
    {
      "cell_type": "code",
      "source": [
        "# Flatten the output of the base model\n",
        "x = Flatten()(base_model.output)\n",
        "\n",
        "# Add a fully connected layer with 256 units and ReLU activation\n",
        "x = Dense(256, activation='relu')(x)\n",
        "\n",
        "# Add a dropout layer to prevent overfitting\n",
        "x = tf.keras.layers.Dropout(0.5)(x)\n",
        "\n",
        "# Add a final output layer with a single unit and sigmoid activation\n",
        "output = Dense(1, activation='sigmoid')(x)\n",
        "\n",
        "# Combine the base model and the custom layers into a new model\n",
        "model = Model(inputs=base_model.input, outputs=output)\n"
      ],
      "metadata": {
        "id": "qOkd29YoxOH2"
      },
      "execution_count": null,
      "outputs": []
    },
    {
      "cell_type": "markdown",
      "source": [
        "Step 5: Freeze the Base Model Layers\n",
        "\n",
        "We will freeze the layers of the base model to prevent them from being updated during training."
      ],
      "metadata": {
        "id": "C9-e3p2rxQCc"
      }
    },
    {
      "cell_type": "code",
      "source": [
        "# Freeze the layers of the base model\n",
        "for layer in base_model.layers:\n",
        "    layer.trainable = False\n"
      ],
      "metadata": {
        "id": "KME105_qxRMw"
      },
      "execution_count": null,
      "outputs": []
    },
    {
      "cell_type": "markdown",
      "source": [
        "Step 6: Compile the Model\n",
        "\n",
        "Next, we will compile the model with a binary cross-entropy loss function and the Adam optimizer."
      ],
      "metadata": {
        "id": "IklzOa87xTMS"
      }
    },
    {
      "cell_type": "code",
      "source": [
        "# Compile the model\n",
        "model.compile(optimizer=Adam(lr=1e-4), loss='binary_crossentropy', metrics=['accuracy'])\n"
      ],
      "metadata": {
        "id": "5WgWtUJzxVyq"
      },
      "execution_count": null,
      "outputs": []
    },
    {
      "cell_type": "markdown",
      "source": [
        "Step 7: Train the Model\n",
        "\n",
        "We will train the model using the training and validation generators."
      ],
      "metadata": {
        "id": "nj5emYL-xW4w"
      }
    },
    {
      "cell_type": "code",
      "source": [
        "# Train the model\n",
        "history = model.fit(\n",
        "    train_generator,\n",
        "    steps_per_epoch=train_generator.samples // train_generator.batch_size,\n",
        "    validation_data=validation_generator,\n",
        "    validation_steps=validation_generator.samples // validation_generator.batch_size,\n",
        "    epochs=10\n",
        ")\n"
      ],
      "metadata": {
        "id": "oEaDltxTxZQ0"
      },
      "execution_count": null,
      "outputs": []
    },
    {
      "cell_type": "markdown",
      "source": [
        "Step 8: Fine-Tune the Model\n",
        "\n",
        "Optionally, we can fine-tune the model by unfreezing some of the layers of the base model and training the whole network with a lower learning rate."
      ],
      "metadata": {
        "id": "43nbN3EPxa_T"
      }
    },
    {
      "cell_type": "code",
      "source": [
        "# Unfreeze some layers of the base model\n",
        "for layer in base_model.layers[-4:]:\n",
        "    layer.trainable = True\n",
        "\n",
        "# Compile the model again with a lower learning rate\n",
        "model.compile(optimizer=Adam(lr=1e-5), loss='binary_crossentropy', metrics=['accuracy'])\n",
        "\n",
        "# Train the model again\n",
        "history_fine = model.fit(\n",
        "    train_generator,\n",
        "    steps_per_epoch=train_generator.samples // train_generator.batch_size,\n",
        "    validation_data=validation_generator,\n",
        "    validation_steps=validation_generator.samples // validation_generator.batch_size,\n",
        "    epochs=10\n",
        ")\n"
      ],
      "metadata": {
        "id": "x1xuHmglxb8d"
      },
      "execution_count": null,
      "outputs": []
    }
  ]
}