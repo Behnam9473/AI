{
  "nbformat": 4,
  "nbformat_minor": 0,
  "metadata": {
    "colab": {
      "provenance": [],
      "gpuType": "T4",
      "mount_file_id": "1Rb8c8yDXhA73hKzF4XZ8yx2_3gQv1cKE",
      "authorship_tag": "ABX9TyNq7a9ypuLqBbUxBlv0X4Bj",
      "include_colab_link": true
    },
    "kernelspec": {
      "name": "python3",
      "display_name": "Python 3"
    },
    "language_info": {
      "name": "python"
    },
    "accelerator": "GPU"
  },
  "cells": [
    {
      "cell_type": "markdown",
      "metadata": {
        "id": "view-in-github",
        "colab_type": "text"
      },
      "source": [
        "<a href=\"https://colab.research.google.com/github/Behnam9473/AI/blob/main/warehouse.ipynb\" target=\"_parent\"><img src=\"https://colab.research.google.com/assets/colab-badge.svg\" alt=\"Open In Colab\"/></a>"
      ]
    },
    {
      "cell_type": "code",
      "source": [
        "!pip install ultralytics\n",
        "from ultralytics import YOLO\n",
        "import pandas as pd\n",
        "import numpy as np\n",
        "import time\n",
        "from datetime import datetime"
      ],
      "metadata": {
        "id": "nZyvfH4dv3XU"
      },
      "execution_count": null,
      "outputs": []
    },
    {
      "cell_type": "markdown",
      "source": [
        "# **قفسه ها**"
      ],
      "metadata": {
        "id": "c9XEcevrXrIP"
      }
    },
    {
      "cell_type": "code",
      "source": [],
      "metadata": {
        "id": "ZDONHiL4rWkO"
      },
      "execution_count": null,
      "outputs": []
    },
    {
      "cell_type": "code",
      "source": [
        "\n",
        "#===============================================================================\n",
        "!yolo task=detect \\\n",
        "mode=predict \\\n",
        "model=/content/drive/MyDrive/detect/best.pt \\\n",
        "conf=0.25 \\\n",
        "source=/content/drive/MyDrive/detect/*.jpg\n",
        "model = YOLO('/content/drive/MyDrive/detect/best.pt')\n",
        "result = model.predict(\"/content/drive/MyDrive/detect/*.jpg\")\n",
        "#===============================================================================\n",
        "cls = result[0].boxes.cls\n",
        "li = cls.tolist()\n",
        "res = [*set(li)]\n",
        "values = []\n",
        "for i in range(len(res)):\n",
        "  s = li.count(i)\n",
        "  if s>0:\n",
        "    values.append(s)\n",
        "#===============================================================================\n",
        "key = []\n",
        "for r in result:\n",
        "  n = r.names\n",
        "  key.append(n)\n"
      ],
      "metadata": {
        "id": "dFN6whC_6dpb",
        "colab": {
          "base_uri": "https://localhost:8080/"
        },
        "outputId": "8e259b31-8072-4070-d2c9-1ed01d4dde02"
      },
      "execution_count": null,
      "outputs": [
        {
          "output_type": "stream",
          "name": "stdout",
          "text": [
            "Ultralytics YOLOv8.0.150 🚀 Python-3.10.12 torch-2.0.1+cu118 CUDA:0 (Tesla T4, 15102MiB)\n",
            "Model summary (fused): 168 layers, 3007208 parameters, 0 gradients\n",
            "\n",
            "image 1/1 /content/drive/MyDrive/detect/IMG_20230808_140256_BURST22.jpg: 480x1024 1 AR03-101-01, 1 AR02-101-01, 1 3940-A92, 2 2925-B40s, 1 2925-703, 2 2940-703s, 1 2925-702, 1 2190-727, 58.3ms\n",
            "Speed: 5.8ms preprocess, 58.3ms inference, 86.7ms postprocess per image at shape (1, 3, 480, 1024)\n",
            "Results saved to \u001b[1mruns/detect/predict2\u001b[0m\n"
          ]
        },
        {
          "output_type": "stream",
          "name": "stderr",
          "text": [
            "\n",
            "image 1/1 /content/drive/MyDrive/detect/IMG_20230808_140256_BURST22.jpg: 480x1024 1 AR03-101-01, 1 AR02-101-01, 1 3940-A92, 2 2925-B40s, 1 2925-703, 2 2940-703s, 1 2925-702, 1 2190-727, 8.5ms\n",
            "Speed: 3.8ms preprocess, 8.5ms inference, 1.5ms postprocess per image at shape (1, 3, 480, 1024)\n"
          ]
        }
      ]
    },
    {
      "cell_type": "code",
      "source": [
        "part1={\"part_number\":key[0],\n",
        "    \"area\": 400}\n",
        "part2={\"part_number\":key[0][1],\n",
        "    \"area\": 300}\n",
        "part3={\"part_number\":key[0][2],\n",
        "    \"area\": 200}\n",
        "part4={\"part_number\":key[0][3],\n",
        "    \"area\": 100}\n",
        "part5={\"part_number\":key[0][4],\n",
        "    \"area\": 100}\n",
        "part6={\"part_number\":key[0][5],\n",
        "    \"area\": 80}\n",
        "part7={\"part_number\":key[0][6],\n",
        "    \"area\": 40}\n",
        "part8={\"part_number\":key[0][7],\n",
        "  \"area\": 40}\n"
      ],
      "metadata": {
        "id": "s9IRG2-a2GLH"
      },
      "execution_count": null,
      "outputs": []
    },
    {
      "cell_type": "code",
      "source": [
        "now = datetime.now()\n",
        "di = {\"part_number\":[None],\"QTY\": [None],\"Time\": now}\n",
        "df1 = pd.DataFrame(di)\n",
        "#===============================================================================\n",
        "for n in range(len(res)):\n",
        "\n",
        "  df1.loc[len(df1.index)] = [key[0][n], values[n],now]"
      ],
      "metadata": {
        "id": "xaBX1QyF3FeX"
      },
      "execution_count": null,
      "outputs": []
    },
    {
      "cell_type": "markdown",
      "source": [
        "# **برای ورود کالا به انبار گزینه زیر را اجرا نمایید**"
      ],
      "metadata": {
        "id": "XdO2LjMZNAux"
      }
    },
    {
      "cell_type": "code",
      "source": [
        "df1.to_excel(\"receive.xlsx\",sheet_name = 'ورودی')"
      ],
      "metadata": {
        "id": "HYCsB5RyMW5t"
      },
      "execution_count": null,
      "outputs": []
    },
    {
      "cell_type": "markdown",
      "source": [
        "# **برای خروج کالا از انبار گزینه زیر را اجرا نمایید**"
      ],
      "metadata": {
        "id": "KQPjIj9kNgIW"
      }
    },
    {
      "cell_type": "code",
      "source": [
        "df1.to_excel(\"send.xlsx\",sheet_name = 'خروجی')"
      ],
      "metadata": {
        "id": "jwbDQY2gNkfI"
      },
      "execution_count": null,
      "outputs": []
    }
  ]
}