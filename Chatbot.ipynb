{
  "nbformat": 4,
  "nbformat_minor": 0,
  "metadata": {
    "colab": {
      "provenance": [],
      "mount_file_id": "1KvYFWBGE24Lgi_3Rgd5AxbfKCIobOezq",
      "authorship_tag": "ABX9TyNmLMjHPOIxRhzU8jXYwglr",
      "include_colab_link": true
    },
    "kernelspec": {
      "name": "python3",
      "display_name": "Python 3"
    },
    "language_info": {
      "name": "python"
    }
  },
  "cells": [
    {
      "cell_type": "markdown",
      "metadata": {
        "id": "view-in-github",
        "colab_type": "text"
      },
      "source": [
        "<a href=\"https://colab.research.google.com/github/Behnam9473/AI/blob/main/Chatbot.ipynb\" target=\"_parent\"><img src=\"https://colab.research.google.com/assets/colab-badge.svg\" alt=\"Open In Colab\"/></a>"
      ]
    },
    {
      "cell_type": "code",
      "execution_count": null,
      "metadata": {
        "id": "siur3ELA62uo"
      },
      "outputs": [],
      "source": [
        "import numpy as np\n",
        "import tensorflow as tf\n",
        "import re\n",
        "import time"
      ]
    },
    {
      "cell_type": "markdown",
      "source": [
        "Data preprocesing"
      ],
      "metadata": {
        "id": "lr4o-jsc7I1Z"
      }
    },
    {
      "cell_type": "code",
      "source": [],
      "metadata": {
        "id": "A5BH8fBX7MYD"
      },
      "execution_count": null,
      "outputs": []
    },
    {
      "cell_type": "markdown",
      "source": [
        "Importing the dataset"
      ],
      "metadata": {
        "id": "Yn_vex8n7Opx"
      }
    },
    {
      "cell_type": "code",
      "source": [
        "lines = open('/content/drive/MyDrive/NLP/movie_lines.txt', encoding = 'utf-8', errors= 'ignore').read().split('\\n')\n",
        "conversations = open('/content/drive/MyDrive/NLP/movie_conversations.txt', encoding = 'utf-8', errors= 'ignore').read().split('\\n')\n"
      ],
      "metadata": {
        "id": "3JUvWo_U7S2S"
      },
      "execution_count": null,
      "outputs": []
    },
    {
      "cell_type": "markdown",
      "source": [
        "Creating a dictionary that maps each line and its id"
      ],
      "metadata": {
        "id": "5kitPRzsIt4E"
      }
    },
    {
      "cell_type": "code",
      "source": [
        "id2line = {}\n",
        "for line in lines:\n",
        "  _line = line.split(' +++$+++ ')\n",
        "  if len(_line)==5:\n",
        "    id2line[_line[0]] = _line[4]\n"
      ],
      "metadata": {
        "id": "4RubXXe6AE0H"
      },
      "execution_count": null,
      "outputs": []
    },
    {
      "cell_type": "markdown",
      "source": [
        "Creating a list of all the conversitions"
      ],
      "metadata": {
        "id": "DDZC5-VIJ-AU"
      }
    },
    {
      "cell_type": "code",
      "source": [
        "conversations_ids = []\n",
        "for conversation in conversations[:-1]:\n",
        "  _converstions = conversation.split(' +++$+++ ')[-1][1:-1].replace(\"'\",\"\").replace(\" \",\"\")\n",
        "  conversations_ids.append(_converstions.split(','))"
      ],
      "metadata": {
        "id": "TJXbeHsFKJ0-"
      },
      "execution_count": null,
      "outputs": []
    },
    {
      "cell_type": "markdown",
      "source": [
        "Getting separately the questions and the answers"
      ],
      "metadata": {
        "id": "o5BRh-y4Oi1m"
      }
    },
    {
      "cell_type": "code",
      "source": [
        "questions = []\n",
        "answers = []\n",
        "for conversation in conversations_ids:\n",
        "  for i in range(len(conversation) - 1):\n",
        "    questions.append(id2line[conversation[i]])\n",
        "    answers.append(id2line[conversation[i+1]])"
      ],
      "metadata": {
        "id": "KjcWTtosNXwi"
      },
      "execution_count": null,
      "outputs": []
    },
    {
      "cell_type": "markdown",
      "source": [
        "Doing a first cleaning of texts"
      ],
      "metadata": {
        "id": "_SHg60MfQg-L"
      }
    },
    {
      "cell_type": "code",
      "source": [
        "def clean_text(text):\n",
        "  text = text.lower()\n",
        "  text = re.sub(r\"i'm\",\"i am\", text)\n",
        "  text = re.sub(r\"he's\",\"he is\", text)\n",
        "  text = re.sub(r\"she's\",\"she is\", text)\n",
        "  text = re.sub(r\"that's\",\"that is\", text)\n",
        "  text = re.sub(r\"what's\",\"what is\", text)\n",
        "  text = re.sub(r\"where's\",\"where is\", text)\n",
        "  text = re.sub(r\"\\'ll\",\"will\", text)\n",
        "  text = re.sub(r\"\\'ve\",\"have\", text)\n",
        "  text = re.sub(r\"\\'re\",\"are\", text)\n",
        "  text = re.sub(r\"\\'d\",\"whould\", text)\n",
        "  text = re.sub(r\"won't\",\"will not\", text)\n",
        "  text = re.sub(r\"can't\",\"can not\", text)\n",
        "  text = re.sub(r\"[-()\\\"#@:<>{}+=~|.?,]'\",\"\", text)\n",
        "  return text\n",
        "\n",
        "#cleaning the querstions\n",
        "\n",
        "\n",
        "#Cleaning the questions\n",
        "clean_questtions = []\n",
        "for question in questions:\n",
        "  clean_questtions.append(clean_text(question))\n",
        "\n",
        "# Clean the answers\n",
        "clean_answers = []\n",
        "for answer in answers:\n",
        "  clean_answers.append(clean_text(answer))"
      ],
      "metadata": {
        "id": "ziOVI5DqQn-F"
      },
      "execution_count": null,
      "outputs": []
    },
    {
      "cell_type": "markdown",
      "source": [
        "Creating a dictionary that maps each word to its number of occurance"
      ],
      "metadata": {
        "id": "owXolLZqVFv9"
      }
    },
    {
      "cell_type": "code",
      "source": [
        "word2count = {}\n",
        "for question in clean_questtions:\n",
        "  for word in question.split():\n",
        "    if word not in word2count:\n",
        "      word2count[word] = 1\n",
        "    else:\n",
        "      word2count[word] +=1\n",
        "for answer in clean_answers:\n",
        "  for word in answer.split():\n",
        "    if word not in word2count:\n",
        "      word2count[word] = 1\n",
        "    else:\n",
        "      word2count[word] +=1\n"
      ],
      "metadata": {
        "id": "ZdzEaJeqVQAp"
      },
      "execution_count": null,
      "outputs": []
    },
    {
      "cell_type": "markdown",
      "source": [
        "Creating two dictionaies that map the questions words and the answers words to a unique integer"
      ],
      "metadata": {
        "id": "6kcRS77fYzJa"
      }
    },
    {
      "cell_type": "code",
      "source": [
        "thershhold = 20\n",
        "questionswords2int = {}\n",
        "word_number = 0\n",
        "for word, count in word2count.items():\n",
        "  if count>= thershhold:\n",
        "    questionswords2int[word] = word_number\n",
        "    word_number +=1\n",
        "answerswords2int = {}\n",
        "word_number = 0\n",
        "for word, count in word2count.items():\n",
        "  if count >= thershhold:\n",
        "    answerswords2int[word] = word_number\n",
        "    word_number +=1\n",
        "\n"
      ],
      "metadata": {
        "id": "P_RPMn1SY9D2"
      },
      "execution_count": null,
      "outputs": []
    },
    {
      "cell_type": "markdown",
      "source": [
        "Adding the last tokens to these two dictionaries"
      ],
      "metadata": {
        "id": "8v-kyu6uejmO"
      }
    },
    {
      "cell_type": "code",
      "source": [
        "# list of tokens\n",
        "tokens = ['<PAD>', '<EOS>', '<OUT>', '<SOS>']\n",
        "\n",
        "for token in tokens:\n",
        "  questionswords2int[token] = len(questionswords2int) + 1\n",
        "for token in tokens:\n",
        "  answerswords2int[token] = len(answerswords2int) + 1\n"
      ],
      "metadata": {
        "id": "thaWmBnOepKl"
      },
      "execution_count": null,
      "outputs": []
    },
    {
      "cell_type": "markdown",
      "source": [
        "Creating the invers dictionary of the answerwords2int dictionary"
      ],
      "metadata": {
        "id": "KqXUG-QbzOii"
      }
    },
    {
      "cell_type": "code",
      "source": [
        "answers2word = {w_i: w for w, w_i in answerswords2int.items()}\n"
      ],
      "metadata": {
        "id": "C83_cEMIsX1m"
      },
      "execution_count": 28,
      "outputs": []
    },
    {
      "cell_type": "markdown",
      "source": [
        "Adding the End of String token to the end of every answer"
      ],
      "metadata": {
        "id": "LOuc0fI-43hX"
      }
    },
    {
      "cell_type": "code",
      "source": [
        "for i in range(len(clean_answers)):\n",
        "  clean_answers[i] += ' <EOS>'"
      ],
      "metadata": {
        "id": "ea2ZYEi94-2I"
      },
      "execution_count": 32,
      "outputs": []
    },
    {
      "cell_type": "markdown",
      "source": [
        "Translating all questions and answers into integers\n",
        "and Replaceing all the words that were filtered out by \"OUT\""
      ],
      "metadata": {
        "id": "Ptrt6nid582d"
      }
    },
    {
      "cell_type": "code",
      "source": [
        "questions_to_int = []\n",
        "for question in clean_questtions:\n",
        "  ints = []\n",
        "  for word in question.split():\n",
        "    if word not in questionswords2int:\n",
        "      ints.append(questionswords2int['<OUT>'])\n",
        "    else:\n",
        "      ints.append(questionswords2int[word])\n",
        "\n",
        "    questions_to_int.append(ints)\n",
        "\n",
        "answers_to_int = []\n",
        "for answer in clean_answers:\n",
        "  ints = []\n",
        "  for word in answer.split():\n",
        "    if word not in answerswords2int:\n",
        "      ints.append(answerswords2int['<OUT>'])\n",
        "    else:\n",
        "      ints.append(answerswords2int[word])\n",
        "\n",
        "    answers_to_int.append(ints)\n",
        "\n"
      ],
      "metadata": {
        "id": "eYY5qgRR6L3a"
      },
      "execution_count": 34,
      "outputs": []
    },
    {
      "cell_type": "markdown",
      "source": [
        "Sorting question and answers by the length of questions"
      ],
      "metadata": {
        "id": "ny2erBSV8czn"
      }
    },
    {
      "cell_type": "code",
      "source": [
        "sorted_clean_questions = []\n",
        "sorted_clean_answers = []\n",
        "for length in range(1, 25+1):\n",
        "  for i in enumerate(questions_to_int):\n",
        "    if len(i[1]) == length:\n",
        "      sorted_clean_questions.append(questions_to_int[i[0]])\n",
        "      sorted_clean_answers.append(answers_to_int[i[0]])"
      ],
      "metadata": {
        "id": "Bz2fP3rN8ivG"
      },
      "execution_count": 36,
      "outputs": []
    }
  ]
}