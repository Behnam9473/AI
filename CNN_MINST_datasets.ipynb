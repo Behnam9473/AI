{
  "nbformat": 4,
  "nbformat_minor": 0,
  "metadata": {
    "colab": {
      "provenance": [],
      "authorship_tag": "ABX9TyOqvZSIMAVQnNKq0coXdw0w",
      "include_colab_link": true
    },
    "kernelspec": {
      "name": "python3",
      "display_name": "Python 3"
    },
    "language_info": {
      "name": "python"
    },
    "accelerator": "GPU",
    "gpuClass": "standard"
  },
  "cells": [
    {
      "cell_type": "markdown",
      "metadata": {
        "id": "view-in-github",
        "colab_type": "text"
      },
      "source": [
        "<a href=\"https://colab.research.google.com/github/Behnam9473/AI/blob/main/CNN_MINST_datasets.ipynb\" target=\"_parent\"><img src=\"https://colab.research.google.com/assets/colab-badge.svg\" alt=\"Open In Colab\"/></a>"
      ]
    },
    {
      "cell_type": "markdown",
      "source": [
        "Use MINST datasets"
      ],
      "metadata": {
        "id": "0HLm8xLp922F"
      }
    },
    {
      "cell_type": "code",
      "execution_count": 2,
      "metadata": {
        "id": "MUcemDk1QYuJ"
      },
      "outputs": [],
      "source": [
        "import tensorflow as tf\n",
        "from tensorflow.keras.layers import Input, Conv2D, Dense, Flatten, Dropout\n",
        "from tensorflow.keras.models import Model\n",
        "import numpy as np\n",
        "import matplotlib.pyplot as plt"
      ]
    },
    {
      "cell_type": "code",
      "source": [
        "# Load data\n",
        "f_minst = tf.keras.datasets.fashion_mnist\n",
        "\n",
        "(xtrain, ytrain), (xtest, ytest) = f_minst.load_data()\n",
        "xtrain, xtest = xtrain / 255.0, xtest / 255.0\n",
        "print(\"xtrain shape is = \", xtrain.shape)\n",
        "print(\"ytrain shape is = \", ytrain.shape)\n",
        "print(\"xtest shape is = \", xtest.shape)\n",
        "print(\"ytest shape is = \", ytest.shape)"
      ],
      "metadata": {
        "colab": {
          "base_uri": "https://localhost:8080/"
        },
        "id": "0jXqqjTS-d2h",
        "outputId": "7264758d-4b3a-4ddd-b3f7-81484e57469f"
      },
      "execution_count": 3,
      "outputs": [
        {
          "output_type": "stream",
          "name": "stdout",
          "text": [
            "Downloading data from https://storage.googleapis.com/tensorflow/tf-keras-datasets/train-labels-idx1-ubyte.gz\n",
            "29515/29515 [==============================] - 0s 0us/step\n",
            "Downloading data from https://storage.googleapis.com/tensorflow/tf-keras-datasets/train-images-idx3-ubyte.gz\n",
            "26421880/26421880 [==============================] - 2s 0us/step\n",
            "Downloading data from https://storage.googleapis.com/tensorflow/tf-keras-datasets/t10k-labels-idx1-ubyte.gz\n",
            "5148/5148 [==============================] - 0s 0us/step\n",
            "Downloading data from https://storage.googleapis.com/tensorflow/tf-keras-datasets/t10k-images-idx3-ubyte.gz\n",
            "4422102/4422102 [==============================] - 0s 0us/step\n",
            "xtrain shape is =  (60000, 28, 28)\n",
            "ytrain shape is =  (60000,)\n",
            "xtest shape is =  (10000, 28, 28)\n",
            "ytest shape is =  (10000,)\n"
          ]
        }
      ]
    },
    {
      "cell_type": "markdown",
      "source": [
        "Conv layers expect 3D arrays but fashion mnist dataset includ 2D gray pictures hence, we should add 1 dim to Conv layer"
      ],
      "metadata": {
        "id": "oU-tgw44_zcY"
      }
    },
    {
      "cell_type": "code",
      "source": [
        "xtrain = np.expand_dims(xtrain, -1)\n",
        "xtest = np.expand_dims(xtest, -1)\n",
        "print(\"xtrain shape is = \", xtrain.shape)\n",
        "print(\"ytrain shape is = \", ytrain.shape)\n"
      ],
      "metadata": {
        "colab": {
          "base_uri": "https://localhost:8080/"
        },
        "id": "J5Ob0mJF_VDW",
        "outputId": "85291367-f65c-4c1f-dccd-35f550a76ce6"
      },
      "execution_count": 4,
      "outputs": [
        {
          "output_type": "stream",
          "name": "stdout",
          "text": [
            "xtrain shape is =  (60000, 28, 28, 1)\n",
            "ytrain shape is =  (60000,)\n"
          ]
        }
      ]
    },
    {
      "cell_type": "code",
      "source": [
        "# number of classes\n",
        "K = len(set(ytrain)) # using |set| to identify UNIQE calsses\n",
        "print(\"number of classes are = \", K)\n"
      ],
      "metadata": {
        "colab": {
          "base_uri": "https://localhost:8080/"
        },
        "id": "C0uL3q0KAtVC",
        "outputId": "d36cda2a-9c7e-4e92-e7ba-9069d4dbd92b"
      },
      "execution_count": 5,
      "outputs": [
        {
          "output_type": "stream",
          "name": "stdout",
          "text": [
            "number of classes are =  10\n"
          ]
        }
      ]
    },
    {
      "cell_type": "code",
      "source": [],
      "metadata": {
        "id": "o6vfHi47BduY"
      },
      "execution_count": 5,
      "outputs": []
    },
    {
      "cell_type": "code",
      "source": [
        "# Build the model using the functional API\n",
        "i = Input(shape = xtrain[0].shape) # = (28,28,1)\n",
        "x = Conv2D(32,(3, 3), strides = 2, activation = 'relu')(i)\n",
        "x = Conv2D(64, (3, 3), strides = 2, activation = 'tanh')(x)\n",
        "x = Conv2D(128, (3, 3), strides = 2, activation = 'tanh')(x)\n",
        "x = Flatten()(x)\n",
        "x = Dropout(0.3)(x)\n",
        "x = Dense(512, activation = 'relu')(x)\n",
        "x = Dropout(0.2)(x)\n",
        "x = Dense(256, activation = 'tanh')(x)\n",
        "x = Dropout(0.2)(x)\n",
        "x = Dense(K, activation = \"softmax\")(x)\n",
        "model = Model(i, x)\n"
      ],
      "metadata": {
        "id": "b2iZdTO3BGqi"
      },
      "execution_count": 21,
      "outputs": []
    },
    {
      "cell_type": "code",
      "source": [
        "from tensorflow.python import metrics\n",
        "# compile and fit \n",
        "model.compile(optimizer = 'adam',\n",
        "              loss = 'sparse_categorical_crossentropy',\n",
        "              metrics = ['accuracy'])\n",
        "r = model.fit(xtrain, ytrain, validation_data = (xtest, ytest), epochs = 15)\n",
        "\n"
      ],
      "metadata": {
        "colab": {
          "base_uri": "https://localhost:8080/"
        },
        "id": "QdDKpq8SDmjU",
        "outputId": "681102b9-0dcc-4a54-a2cf-47dbe24f501c"
      },
      "execution_count": 22,
      "outputs": [
        {
          "output_type": "stream",
          "name": "stdout",
          "text": [
            "Epoch 1/15\n",
            "1875/1875 [==============================] - 7s 4ms/step - loss: 0.5159 - accuracy: 0.8093 - val_loss: 0.4114 - val_accuracy: 0.8454\n",
            "Epoch 2/15\n",
            "1875/1875 [==============================] - 8s 4ms/step - loss: 0.3847 - accuracy: 0.8544 - val_loss: 0.3703 - val_accuracy: 0.8624\n",
            "Epoch 3/15\n",
            "1875/1875 [==============================] - 10s 5ms/step - loss: 0.3503 - accuracy: 0.8688 - val_loss: 0.3467 - val_accuracy: 0.8710\n",
            "Epoch 4/15\n",
            "1875/1875 [==============================] - 11s 6ms/step - loss: 0.3250 - accuracy: 0.8776 - val_loss: 0.3370 - val_accuracy: 0.8773\n",
            "Epoch 5/15\n",
            "1875/1875 [==============================] - 11s 6ms/step - loss: 0.3062 - accuracy: 0.8850 - val_loss: 0.3309 - val_accuracy: 0.8774\n",
            "Epoch 6/15\n",
            "1875/1875 [==============================] - 11s 6ms/step - loss: 0.2937 - accuracy: 0.8893 - val_loss: 0.3172 - val_accuracy: 0.8844\n",
            "Epoch 7/15\n",
            "1875/1875 [==============================] - 11s 6ms/step - loss: 0.2804 - accuracy: 0.8934 - val_loss: 0.3157 - val_accuracy: 0.8843\n",
            "Epoch 8/15\n",
            "1875/1875 [==============================] - 11s 6ms/step - loss: 0.2699 - accuracy: 0.9001 - val_loss: 0.3166 - val_accuracy: 0.8888\n",
            "Epoch 9/15\n",
            "1875/1875 [==============================] - 10s 5ms/step - loss: 0.2632 - accuracy: 0.9013 - val_loss: 0.3131 - val_accuracy: 0.8934\n",
            "Epoch 10/15\n",
            "1875/1875 [==============================] - 13s 7ms/step - loss: 0.2521 - accuracy: 0.9061 - val_loss: 0.3157 - val_accuracy: 0.8906\n",
            "Epoch 11/15\n",
            "1875/1875 [==============================] - 11s 6ms/step - loss: 0.2456 - accuracy: 0.9079 - val_loss: 0.3113 - val_accuracy: 0.8868\n",
            "Epoch 12/15\n",
            "1875/1875 [==============================] - 12s 7ms/step - loss: 0.2422 - accuracy: 0.9097 - val_loss: 0.3106 - val_accuracy: 0.8922\n",
            "Epoch 13/15\n",
            "1875/1875 [==============================] - 12s 7ms/step - loss: 0.2342 - accuracy: 0.9125 - val_loss: 0.2983 - val_accuracy: 0.8991\n",
            "Epoch 14/15\n",
            "1875/1875 [==============================] - 11s 6ms/step - loss: 0.2285 - accuracy: 0.9150 - val_loss: 0.2976 - val_accuracy: 0.8950\n",
            "Epoch 15/15\n",
            "1875/1875 [==============================] - 12s 6ms/step - loss: 0.2239 - accuracy: 0.9165 - val_loss: 0.2968 - val_accuracy: 0.8987\n"
          ]
        }
      ]
    },
    {
      "cell_type": "code",
      "source": [
        "# plot loss per iteration\n",
        "plt.plot(r.history['loss'], label = 'loss')\n",
        "plt.plot(r.history['val_loss'], label = 'val_loss')\n",
        "plt.legend()"
      ],
      "metadata": {
        "colab": {
          "base_uri": "https://localhost:8080/",
          "height": 282
        },
        "id": "gtXI6XpeF2KX",
        "outputId": "a4206866-188e-4f2c-9040-6668ec4b2510"
      },
      "execution_count": 23,
      "outputs": [
        {
          "output_type": "execute_result",
          "data": {
            "text/plain": [
              "<matplotlib.legend.Legend at 0x7f692f19e6a0>"
            ]
          },
          "metadata": {},
          "execution_count": 23
        },
        {
          "output_type": "display_data",
          "data": {
            "text/plain": [
              "<Figure size 432x288 with 1 Axes>"
            ],
            "image/png": "[encoded data removed]"
          },
          "metadata": {
            "needs_background": "light"
          }
        }
      ]
    },
    {
      "cell_type": "code",
      "source": [
        "# plot accuracy per iteration\n",
        "plt.plot(r.history['accuracy'], label = 'acc')\n",
        "plt.plot(r.history['val_accuracy'], label = 'val_accuracy')\n",
        "plt.legend()"
      ],
      "metadata": {
        "colab": {
          "base_uri": "https://localhost:8080/",
          "height": 283
        },
        "id": "Hx_Ymu5BGXxV",
        "outputId": "7fd87f4f-0610-407d-e4e7-b2e677ea2e9e"
      },
      "execution_count": 24,
      "outputs": [
        {
          "output_type": "execute_result",
          "data": {
            "text/plain": [
              "<matplotlib.legend.Legend at 0x7f69732608e0>"
            ]
          },
          "metadata": {},
          "execution_count": 24
        },
        {
          "output_type": "display_data",
          "data": {
            "text/plain": [
              "<Figure size 432x288 with 1 Axes>"
            ],
            "image/png": "[encoded data removed]"
          },
          "metadata": {
            "needs_background": "light"
          }
        }
      ]
    },
    {
      "cell_type": "code",
      "source": [
        "# plot confusion matrix\n",
        "from sklearn.metrics import confusion_matrix\n",
        "import itertools\n",
        "def plt_CM(cm, classes,\n",
        "           normalize = False,\n",
        "           title = ' Confusion matrix',\n",
        "           cmap = plt.cm.Blues):\n",
        "  if normalize:\n",
        "    cm = cm.astype('float') / cm.sum(axis = 1)[:, np.newaxis]\n",
        "    print('Confusion matrix, with normalization')\n",
        "  else:\n",
        "    print('Confusion matrix, without normalization')\n",
        "\n",
        "    print(cm)\n",
        "\n",
        "    plt.imshow(cm, interpolation = 'nearest', cmap = cmap)\n",
        "    plt.title(title)\n",
        "    plt.colorbar()\n",
        "    tick_marks = (np.arange(len(classes)))\n",
        "    plt.xticks(tick_marks, classes, rotation = 45)\n",
        "    plt.yticks(tick_marks, classes)\n",
        "\n",
        "    fmt = '.2f' if normalize else 'd'\n",
        "    thresh = cm.max() / 2.\n",
        "    for i, j in itertools.product(range(cm.shape[0]),range(cm.shape[1])):\n",
        "      plt.text(j, i, format(cm[i,j], fmt),\n",
        "              horizontalalignment = 'center',\n",
        "              color = 'white' if cm[i,j] > thresh else \"black\")\n",
        "    plt.tight_layout()  \n",
        "    plt.ylabel(\"True lable\")\n",
        "    plt.xlabel(\"Predicted lable\")\n",
        "    plt.show()\n",
        "\n",
        "ptest = model.predict(xtest).argmax(axis = 1)\n",
        "cm = confusion_matrix(ytest, ptest)\n",
        "plt_CM(cm, list(range(10)))"
      ],
      "metadata": {
        "colab": {
          "base_uri": "https://localhost:8080/",
          "height": 519
        },
        "id": "lx4Pe_3RHCZK",
        "outputId": "98ed715a-a9ab-4ba6-9852-6573a096502f"
      },
      "execution_count": 31,
      "outputs": [
        {
          "output_type": "stream",
          "name": "stdout",
          "text": [
            "313/313 [==============================] - 1s 2ms/step\n",
            "Confusion matrix, without normalization\n",
            "[[877   0  17  12   2   1  87   0   4   0]\n",
            " [  1 976   0  14   3   0   4   0   2   0]\n",
            " [ 30   2 812   8  81   0  66   0   1   0]\n",
            " [ 17   7  10 903  34   0  29   0   0   0]\n",
            " [  2   1  51  22 858   0  64   0   2   0]\n",
            " [  0   0   0   1   0 973   0  17   0   9]\n",
            " [123   1  62  16  94   0 690   0  14   0]\n",
            " [  0   0   0   0   0  11   0 955   0  34]\n",
            " [  5   2   3   2   3   2   7   1 973   2]\n",
            " [  1   0   0   0   0   6   0  23   0 970]]\n"
          ]
        },
        {
          "output_type": "display_data",
          "data": {
            "text/plain": [
              "<Figure size 432x288 with 2 Axes>"
            ],
            "image/png": "[encoded data removed]"
          },
          "metadata": {
            "needs_background": "light"
          }
        }
      ]
    },
    {
      "cell_type": "code",
      "source": [
        "# lable mapping....\n",
        "labels = \"\"\"\n",
        "T_shirt\n",
        "Trouser\n",
        "Pullover\n",
        "Dress\n",
        "Coat\n",
        "Sandals\n",
        "Shirt\n",
        "Sneaker\n",
        "Bag\n",
        "Ankle boott\"\"\".split()"
      ],
      "metadata": {
        "id": "sGwQv7-CLEdN"
      },
      "execution_count": 32,
      "outputs": []
    },
    {
      "cell_type": "code",
      "source": [
        "#Some misclassifid examples\n",
        "misclassified_idx = np.where(ptest != ytest)[0]\n",
        "i = np.random.choice(misclassified_idx)\n",
        "plt.imshow(xtest[i].reshape(28, 28),cmap = 'gray')\n",
        "plt.title('True label is: %s and predicted one is: %s' % (labels[ytest[i]], labels[ptest[i]]))"
      ],
      "metadata": {
        "colab": {
          "base_uri": "https://localhost:8080/",
          "height": 298
        },
        "id": "hC3M2TzFJfOf",
        "outputId": "6d8dff76-f8d6-4377-fbcb-918f6cd80097"
      },
      "execution_count": 33,
      "outputs": [
        {
          "output_type": "execute_result",
          "data": {
            "text/plain": [
              "Text(0.5, 1.0, 'True label is: Shirt and predicted one is: T_shirt')"
            ]
          },
          "metadata": {},
          "execution_count": 33
        },
        {
          "output_type": "display_data",
          "data": {
            "text/plain": [
              "<Figure size 432x288 with 1 Axes>"
            ],
            "image/png": "[encoded data removed]"
          },
          "metadata": {
            "needs_background": "light"
          }
        }
      ]
    }
  ]
}