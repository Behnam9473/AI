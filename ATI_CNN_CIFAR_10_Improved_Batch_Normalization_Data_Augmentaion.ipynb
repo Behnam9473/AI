{
  "cells": [
    {
      "cell_type": "markdown",
      "metadata": {
        "id": "view-in-github",
        "colab_type": "text"
      },
      "source": [
        "<a href=\"https://colab.research.google.com/github/Behnam9473/AI/blob/main/ATI_CNN_CIFAR_10_Improved_Batch_Normalization_Data_Augmentaion.ipynb\" target=\"_parent\"><img src=\"https://colab.research.google.com/assets/colab-badge.svg\" alt=\"Open In Colab\"/></a>"
      ]
    },
    {
      "cell_type": "code",
      "execution_count": 1,
      "metadata": {
        "id": "KV4yXrvqV3tY"
      },
      "outputs": [],
      "source": [
        "import tensorflow as tf\n",
        "import numpy as np\n",
        "import matplotlib.pyplot as plt\n",
        "from tensorflow.keras.layers import Input, Conv2D, Dense, Flatten, Dropout, GlobalMaxPooling2D, MaxPooling2D, BatchNormalization\n",
        "from tensorflow.keras.models import Model"
      ]
    },
    {
      "cell_type": "code",
      "execution_count": null,
      "metadata": {
        "colab": {
          "base_uri": "https://localhost:8080/"
        },
        "id": "s4W0UVxqWCA7",
        "outputId": "ee7b12af-8b6e-4038-9820-99ade9b1da18"
      },
      "outputs": [
        {
          "output_type": "stream",
          "name": "stdout",
          "text": [
            "xtrain shape is =  (50000, 32, 32, 3)\n",
            "ytrain shape is =  (50000,)\n",
            "xtest shape is =  (10000, 32, 32, 3)\n",
            "ytest shape is =  (10000,)\n"
          ]
        }
      ],
      "source": [
        "#Load data\n",
        "cifar10 = tf.keras.datasets.cifar10\n",
        "\n",
        "(xtrain, ytrain), (xtest, ytest) = cifar10.load_data()\n",
        "xtrain, xtest = xtrain / 250.0, xtest / 255.0\n",
        "ytrain, ytest = ytrain.flatten(), ytest.flatten()\n",
        "print(\"xtrain shape is = \", xtrain.shape)\n",
        "print(\"ytrain shape is = \", ytrain.shape)\n",
        "print(\"xtest shape is = \", xtest.shape)\n",
        "print(\"ytest shape is = \", ytest.shape)"
      ]
    },
    {
      "cell_type": "code",
      "execution_count": null,
      "metadata": {
        "colab": {
          "base_uri": "https://localhost:8080/"
        },
        "id": "yyANi76xWD0Q",
        "outputId": "78787ead-0530-4c75-c2a5-610ba31b45a3"
      },
      "outputs": [
        {
          "output_type": "stream",
          "name": "stdout",
          "text": [
            "number of classes are =  10\n",
            "(32, 32, 3)\n"
          ]
        }
      ],
      "source": [
        "# number of classes\n",
        "K = len(set(ytrain))\n",
        "print(\"number of classes are = \", K)\n",
        "\n",
        "print(xtrain[0].shape)"
      ]
    },
    {
      "cell_type": "code",
      "source": [
        "# Build the model\n",
        "m = Input(shape = xtrain[0].shape)\n",
        "x = Conv2D(32, (3, 3), activation = 'relu', padding = 'same')(m)\n",
        "x = BatchNormalization()(x)\n",
        "x = Conv2D(32, (3, 3), activation = 'relu', padding = 'same')(m)\n",
        "x = BatchNormalization()(x)\n",
        "\n",
        "x = Conv2D(64, (3, 3), activation = 'relu', padding = 'same')(x)\n",
        "x = BatchNormalization()(x)\n",
        "x = Conv2D(64, (3, 3), activation = 'relu', padding = 'same')(x)\n",
        "x = BatchNormalization()(x)\n",
        "\n",
        "x = Conv2D(128, (3, 3), activation = 'relu', padding = 'same')(x)\n",
        "x = BatchNormalization()(x)\n",
        "x = Conv2D(128, (3, 3), activation = 'relu', padding = 'same')(x)\n",
        "x = BatchNormalization()(x)\n",
        "\n",
        "\n",
        "\n",
        "x = MaxPooling2D((2, 2))(x)\n",
        "\n",
        "x = Flatten()(x)\n",
        "x = Dropout(0.2)(x)\n",
        "\n",
        "x = Dense(1024, activation = 'relu')(x)\n",
        "x = Dropout(0.2)(x)\n",
        "x = Dense(K, activation = 'softmax')(x)\n",
        "\n",
        "model = Model(m, x)"
      ],
      "metadata": {
        "id": "mh9EoohO6Sun"
      },
      "execution_count": null,
      "outputs": []
    },
    {
      "cell_type": "code",
      "source": [
        "model.compile(optimizer = 'adam',\n",
        "              loss = 'sparse_categorical_crossentropy',\n",
        "              metrics = ['accuracy'])\n",
        "r = model.fit(xtrain, ytrain, validation_data = (xtest, ytest),\n",
        "                        epochs = 20)"
      ],
      "metadata": {
        "colab": {
          "base_uri": "https://localhost:8080/"
        },
        "id": "IdZu4uD78ebT",
        "outputId": "95d4fbaa-0ed3-4a91-ec99-f4b6a963c0ea"
      },
      "execution_count": null,
      "outputs": [
        {
          "output_type": "stream",
          "name": "stdout",
          "text": [
            "Epoch 1/20\n",
            "1563/1563 [==============================] - 40s 25ms/step - loss: 2.0103 - accuracy: 0.4190 - val_loss: 1.3879 - val_accuracy: 0.5142\n",
            "Epoch 2/20\n",
            "1563/1563 [==============================] - 39s 25ms/step - loss: 1.2208 - accuracy: 0.5711 - val_loss: 1.2509 - val_accuracy: 0.5413\n",
            "Epoch 3/20\n",
            "1563/1563 [==============================] - 40s 25ms/step - loss: 1.0307 - accuracy: 0.6440 - val_loss: 1.0104 - val_accuracy: 0.6554\n",
            "Epoch 4/20\n",
            "1563/1563 [==============================] - 40s 25ms/step - loss: 0.8927 - accuracy: 0.6920 - val_loss: 0.8771 - val_accuracy: 0.7105\n",
            "Epoch 5/20\n",
            "1563/1563 [==============================] - 39s 25ms/step - loss: 0.7756 - accuracy: 0.7333 - val_loss: 0.7901 - val_accuracy: 0.7346\n",
            "Epoch 6/20\n",
            "1563/1563 [==============================] - 40s 25ms/step - loss: 0.6690 - accuracy: 0.7700 - val_loss: 0.9795 - val_accuracy: 0.6834\n",
            "Epoch 7/20\n",
            "1563/1563 [==============================] - 39s 25ms/step - loss: 0.5832 - accuracy: 0.7983 - val_loss: 0.8081 - val_accuracy: 0.7385\n",
            "Epoch 8/20\n",
            "1563/1563 [==============================] - 40s 25ms/step - loss: 0.5168 - accuracy: 0.8230 - val_loss: 0.7725 - val_accuracy: 0.7548\n",
            "Epoch 9/20\n",
            "1563/1563 [==============================] - 40s 25ms/step - loss: 0.4467 - accuracy: 0.8455 - val_loss: 0.9680 - val_accuracy: 0.7108\n",
            "Epoch 10/20\n",
            "1563/1563 [==============================] - 39s 25ms/step - loss: 0.3923 - accuracy: 0.8646 - val_loss: 0.8871 - val_accuracy: 0.7425\n",
            "Epoch 11/20\n",
            "1563/1563 [==============================] - 40s 25ms/step - loss: 0.3656 - accuracy: 0.8758 - val_loss: 0.8565 - val_accuracy: 0.7686\n",
            "Epoch 12/20\n",
            "1563/1563 [==============================] - 39s 25ms/step - loss: 0.3231 - accuracy: 0.8875 - val_loss: 0.8325 - val_accuracy: 0.7601\n",
            "Epoch 13/20\n",
            "1563/1563 [==============================] - 40s 25ms/step - loss: 0.3006 - accuracy: 0.8977 - val_loss: 0.8981 - val_accuracy: 0.7637\n",
            "Epoch 14/20\n",
            "1563/1563 [==============================] - 40s 25ms/step - loss: 0.2678 - accuracy: 0.9087 - val_loss: 0.9432 - val_accuracy: 0.7789\n",
            "Epoch 15/20\n",
            "1563/1563 [==============================] - 40s 25ms/step - loss: 0.2539 - accuracy: 0.9145 - val_loss: 0.8973 - val_accuracy: 0.7749\n",
            "Epoch 16/20\n",
            "1563/1563 [==============================] - 39s 25ms/step - loss: 0.2382 - accuracy: 0.9208 - val_loss: 1.0545 - val_accuracy: 0.7583\n",
            "Epoch 17/20\n",
            "1563/1563 [==============================] - 40s 25ms/step - loss: 0.2154 - accuracy: 0.9275 - val_loss: 0.9799 - val_accuracy: 0.7609\n",
            "Epoch 18/20\n",
            "1563/1563 [==============================] - 39s 25ms/step - loss: 0.2036 - accuracy: 0.9321 - val_loss: 1.0184 - val_accuracy: 0.7740\n",
            "Epoch 19/20\n",
            "1563/1563 [==============================] - 39s 25ms/step - loss: 0.1861 - accuracy: 0.9380 - val_loss: 1.0612 - val_accuracy: 0.7699\n",
            "Epoch 20/20\n",
            "1563/1563 [==============================] - 40s 25ms/step - loss: 0.1735 - accuracy: 0.9426 - val_loss: 1.0604 - val_accuracy: 0.7717\n"
          ]
        }
      ]
    },
    {
      "cell_type": "code",
      "source": [
        "#Data_Augmentaion\n",
        "data_gen = tf.keras.preprocessing.image.ImageDataGenerator(samplewise_std_normalization = False, width_shift_range = 0.2, height_shift_range = 0.1)\n",
        "trainset_data_gen = data_gen.flow(xtrain, ytrain, 32)\n",
        "step_epoch = xtrain.shape[0] // 32\n",
        "r = model.fit_generator(trainset_data_gen, validation_data = (xtest, ytest), steps_per_epoch = step_epoch, epochs = 20)"
      ],
      "metadata": {
        "colab": {
          "base_uri": "https://localhost:8080/"
        },
        "id": "K5xvSj1kRdfn",
        "outputId": "4358925a-5164-4f67-8173-c7e30e780543"
      },
      "execution_count": null,
      "outputs": [
        {
          "output_type": "stream",
          "name": "stdout",
          "text": [
            "Epoch 1/20\n"
          ]
        },
        {
          "output_type": "stream",
          "name": "stderr",
          "text": [
            "<ipython-input-48-bcc72f876d42>:5: UserWarning: `Model.fit_generator` is deprecated and will be removed in a future version. Please use `Model.fit`, which supports generators.\n",
            "  r = model.fit_generator(trainset_data_gen, validation_data = (xtest, ytest), steps_per_epoch = step_epoch, epochs = 20)\n"
          ]
        },
        {
          "output_type": "stream",
          "name": "stdout",
          "text": [
            "1562/1562 [==============================] - 49s 31ms/step - loss: 0.9934 - accuracy: 0.6718 - val_loss: 0.7683 - val_accuracy: 0.7571\n",
            "Epoch 2/20\n",
            "1562/1562 [==============================] - 48s 31ms/step - loss: 0.8078 - accuracy: 0.7295 - val_loss: 0.7522 - val_accuracy: 0.7710\n",
            "Epoch 3/20\n",
            "1562/1562 [==============================] - 53s 34ms/step - loss: 0.7487 - accuracy: 0.7489 - val_loss: 0.7583 - val_accuracy: 0.7746\n",
            "Epoch 4/20\n",
            "1562/1562 [==============================] - 49s 31ms/step - loss: 0.6985 - accuracy: 0.7651 - val_loss: 0.6373 - val_accuracy: 0.7885\n",
            "Epoch 5/20\n",
            "1562/1562 [==============================] - 48s 31ms/step - loss: 0.6676 - accuracy: 0.7747 - val_loss: 0.6877 - val_accuracy: 0.7848\n",
            "Epoch 6/20\n",
            "1562/1562 [==============================] - 48s 31ms/step - loss: 0.6301 - accuracy: 0.7860 - val_loss: 0.6549 - val_accuracy: 0.7937\n",
            "Epoch 7/20\n",
            "1562/1562 [==============================] - 48s 30ms/step - loss: 0.6097 - accuracy: 0.7961 - val_loss: 0.6002 - val_accuracy: 0.8038\n",
            "Epoch 8/20\n",
            "1562/1562 [==============================] - 48s 31ms/step - loss: 0.5818 - accuracy: 0.8041 - val_loss: 0.5841 - val_accuracy: 0.8147\n",
            "Epoch 9/20\n",
            "1562/1562 [==============================] - 48s 31ms/step - loss: 0.5621 - accuracy: 0.8107 - val_loss: 0.6329 - val_accuracy: 0.7977\n",
            "Epoch 10/20\n",
            "1562/1562 [==============================] - 48s 31ms/step - loss: 0.5428 - accuracy: 0.8162 - val_loss: 0.5693 - val_accuracy: 0.8189\n",
            "Epoch 11/20\n",
            "1562/1562 [==============================] - 48s 30ms/step - loss: 0.5271 - accuracy: 0.8232 - val_loss: 0.5828 - val_accuracy: 0.8182\n",
            "Epoch 12/20\n",
            "1562/1562 [==============================] - 48s 30ms/step - loss: 0.5053 - accuracy: 0.8296 - val_loss: 0.5030 - val_accuracy: 0.8400\n",
            "Epoch 13/20\n",
            "1562/1562 [==============================] - 48s 30ms/step - loss: 0.4993 - accuracy: 0.8322 - val_loss: 0.5458 - val_accuracy: 0.8259\n",
            "Epoch 14/20\n",
            "1562/1562 [==============================] - 48s 31ms/step - loss: 0.4798 - accuracy: 0.8402 - val_loss: 0.5397 - val_accuracy: 0.8238\n",
            "Epoch 15/20\n",
            "1562/1562 [==============================] - 48s 31ms/step - loss: 0.4623 - accuracy: 0.8459 - val_loss: 0.5804 - val_accuracy: 0.8250\n",
            "Epoch 16/20\n",
            "1562/1562 [==============================] - 48s 30ms/step - loss: 0.4521 - accuracy: 0.8490 - val_loss: 0.5769 - val_accuracy: 0.8231\n",
            "Epoch 17/20\n",
            "1562/1562 [==============================] - 48s 30ms/step - loss: 0.4357 - accuracy: 0.8550 - val_loss: 0.5434 - val_accuracy: 0.8256\n",
            "Epoch 18/20\n",
            "1562/1562 [==============================] - 48s 31ms/step - loss: 0.4344 - accuracy: 0.8555 - val_loss: 0.6070 - val_accuracy: 0.8096\n",
            "Epoch 19/20\n",
            "1562/1562 [==============================] - 48s 31ms/step - loss: 0.4204 - accuracy: 0.8599 - val_loss: 0.5770 - val_accuracy: 0.8369\n",
            "Epoch 20/20\n",
            "1562/1562 [==============================] - 48s 31ms/step - loss: 0.4170 - accuracy: 0.8627 - val_loss: 0.5465 - val_accuracy: 0.8310\n"
          ]
        }
      ]
    },
    {
      "cell_type": "code",
      "execution_count": null,
      "metadata": {
        "id": "4o-F7kVNWKIP",
        "colab": {
          "base_uri": "https://localhost:8080/",
          "height": 282
        },
        "outputId": "2d5296e3-e11d-4d90-8153-25567b0540e5"
      },
      "outputs": [
        {
          "output_type": "execute_result",
          "data": {
            "text/plain": [
              "<matplotlib.legend.Legend at 0x7f43a30cb700>"
            ]
          },
          "metadata": {},
          "execution_count": 49
        },
        {
          "output_type": "display_data",
          "data": {
            "text/plain": [
              "<Figure size 432x288 with 1 Axes>"
            ],
            "image/png": "[encoded data removed]"
          },
          "metadata": {
            "needs_background": "light"
          }
        }
      ],
      "source": [
        "# plot loss per iteration\n",
        "plt.plot(r.history['loss'], label = 'loss')\n",
        "plt.plot(r.history['val_loss'], label = 'val_loss')\n",
        "plt.legend()"
      ]
    },
    {
      "cell_type": "code",
      "execution_count": null,
      "metadata": {
        "id": "ZCjm7YGqWMPC",
        "colab": {
          "base_uri": "https://localhost:8080/",
          "height": 282
        },
        "outputId": "774d4f44-3c9a-4b59-bb33-e92517245f7c"
      },
      "outputs": [
        {
          "output_type": "execute_result",
          "data": {
            "text/plain": [
              "<matplotlib.legend.Legend at 0x7f44122e3ac0>"
            ]
          },
          "metadata": {},
          "execution_count": 50
        },
        {
          "output_type": "display_data",
          "data": {
            "text/plain": [
              "<Figure size 432x288 with 1 Axes>"
            ],
            "image/png": "[encoded data removed]"
          },
          "metadata": {
            "needs_background": "light"
          }
        }
      ],
      "source": [
        "# plot accuracy per iteration\n",
        "plt.plot(r.history['accuracy'], label = 'acc')\n",
        "plt.plot(r.history['val_accuracy'], label = 'val_accuracy')\n",
        "plt.legend()"
      ]
    },
    {
      "cell_type": "code",
      "execution_count": null,
      "metadata": {
        "id": "oZDxH3VQWPep",
        "colab": {
          "base_uri": "https://localhost:8080/",
          "height": 519
        },
        "outputId": "5046db87-59f4-4c47-9d45-a8d8f28bced4"
      },
      "outputs": [
        {
          "output_type": "stream",
          "name": "stdout",
          "text": [
            "313/313 [==============================] - 2s 5ms/step\n",
            "Confusion matrix, without normalization\n",
            "[[933   7  19   2   8   0   3   9  12   7]\n",
            " [ 15 926   1   1   1   0   3   1   3  49]\n",
            " [ 77   2 636  40  80  30  99  26   5   5]\n",
            " [ 36   7  39 638  48  75  94  49   4  10]\n",
            " [ 17   1  17  19 842  14  59  30   1   0]\n",
            " [  9   4  22  97  41 746  30  48   2   1]\n",
            " [  5   2  11  19  11   3 938   6   2   3]\n",
            " [ 12   0   5  20  33  14  11 904   0   1]\n",
            " [102  17   9   2   3   0  11   5 826  25]\n",
            " [ 26  35   3   4   0   1   0   6   4 921]]\n"
          ]
        },
        {
          "output_type": "display_data",
          "data": {
            "text/plain": [
              "<Figure size 432x288 with 2 Axes>"
            ],
            "image/png": "[encoded data removed]"
          },
          "metadata": {
            "needs_background": "light"
          }
        }
      ],
      "source": [
        "# plot confusion matrix\n",
        "from sklearn.metrics import confusion_matrix\n",
        "import itertools\n",
        "def plt_CM(cm, classes,\n",
        "           normalize = False,\n",
        "           title = ' Confusion matrix',\n",
        "           cmap = plt.cm.Blues):\n",
        "  if normalize:\n",
        "    cm = cm.astype('float') / cm.sum(axis = 1)[:, np.newaxis]\n",
        "    print('Confusion matrix, with normalization')\n",
        "  else:\n",
        "    print('Confusion matrix, without normalization')\n",
        "\n",
        "    print(cm)\n",
        "\n",
        "    plt.imshow(cm, interpolation = 'nearest', cmap = cmap)\n",
        "    plt.title(title)\n",
        "    plt.colorbar()\n",
        "    tick_marks = (np.arange(len(classes)))\n",
        "    plt.xticks(tick_marks, classes, rotation = 45)\n",
        "    plt.yticks(tick_marks, classes)\n",
        "\n",
        "    fmt = '.2f' if normalize else 'd'\n",
        "    thresh = cm.max() / 2.\n",
        "    for i, j in itertools.product(range(cm.shape[0]),range(cm.shape[1])):\n",
        "      plt.text(j, i, format(cm[i,j], fmt),\n",
        "              horizontalalignment = 'center',\n",
        "              color = 'white' if cm[i,j] > thresh else \"black\")\n",
        "    plt.tight_layout()\n",
        "    plt.ylabel(\"True lable\")\n",
        "    plt.xlabel(\"Predicted lable\")\n",
        "    plt.show()\n",
        "\n",
        "ptest = model.predict(xtest).argmax(axis = 1)\n",
        "cm = confusion_matrix(ytest, ptest)\n",
        "plt_CM(cm, list(range(10)))"
      ]
    },
    {
      "cell_type": "code",
      "execution_count": null,
      "metadata": {
        "id": "SKVSuYdzWRmc",
        "colab": {
          "base_uri": "https://localhost:8080/",
          "height": 298
        },
        "outputId": "bbc409eb-d022-4847-b36e-528e43066bf3"
      },
      "outputs": [
        {
          "output_type": "execute_result",
          "data": {
            "text/plain": [
              "Text(0.5, 1.0, 'True label is: bird and predicted one is: frog')"
            ]
          },
          "metadata": {},
          "execution_count": 52
        },
        {
          "output_type": "display_data",
          "data": {
            "text/plain": [
              "<Figure size 432x288 with 1 Axes>"
            ],
            "image/png": "[encoded data removed]"
          },
          "metadata": {
            "needs_background": "light"
          }
        }
      ],
      "source": [
        "# lable mapping....\n",
        "labels = \"\"\"\n",
        "airplan\n",
        "automobile\n",
        "bird\n",
        "cat\n",
        "deer\n",
        "dog\n",
        "frog\n",
        "horse\n",
        "ship\n",
        "truck\"\"\".split()\n",
        "\n",
        "#Some misclassifid examples\n",
        "misclassified_idx = np.where(ptest != ytest)[0]\n",
        "i = np.random.choice(misclassified_idx)\n",
        "plt.imshow(xtest[i],cmap = 'gray')\n",
        "plt.title('True label is: %s and predicted one is: %s' % (labels[ytest[i]], labels[ptest[i]]))"
      ]
    },
    {
      "cell_type": "code",
      "source": [
        "model.summary()"
      ],
      "metadata": {
        "colab": {
          "base_uri": "https://localhost:8080/"
        },
        "id": "4EwTBSr8SNCk",
        "outputId": "a025c790-c94a-4363-a713-d2046917de03"
      },
      "execution_count": null,
      "outputs": [
        {
          "output_type": "stream",
          "name": "stdout",
          "text": [
            "Model: \"model_8\"\n",
            "_________________________________________________________________\n",
            " Layer (type)                Output Shape              Param #   \n",
            "=================================================================\n",
            " input_15 (InputLayer)       [(None, 32, 32, 3)]       0         \n",
            "                                                                 \n",
            " conv2d_62 (Conv2D)          (None, 32, 32, 32)        896       \n",
            "                                                                 \n",
            " batch_normalization_60 (Bat  (None, 32, 32, 32)       128       \n",
            " chNormalization)                                                \n",
            "                                                                 \n",
            " conv2d_63 (Conv2D)          (None, 32, 32, 64)        18496     \n",
            "                                                                 \n",
            " batch_normalization_61 (Bat  (None, 32, 32, 64)       256       \n",
            " chNormalization)                                                \n",
            "                                                                 \n",
            " conv2d_64 (Conv2D)          (None, 32, 32, 64)        36928     \n",
            "                                                                 \n",
            " batch_normalization_62 (Bat  (None, 32, 32, 64)       256       \n",
            " chNormalization)                                                \n",
            "                                                                 \n",
            " conv2d_65 (Conv2D)          (None, 32, 32, 128)       73856     \n",
            "                                                                 \n",
            " batch_normalization_63 (Bat  (None, 32, 32, 128)      512       \n",
            " chNormalization)                                                \n",
            "                                                                 \n",
            " conv2d_66 (Conv2D)          (None, 32, 32, 128)       147584    \n",
            "                                                                 \n",
            " batch_normalization_64 (Bat  (None, 32, 32, 128)      512       \n",
            " chNormalization)                                                \n",
            "                                                                 \n",
            " max_pooling2d_11 (MaxPoolin  (None, 16, 16, 128)      0         \n",
            " g2D)                                                            \n",
            "                                                                 \n",
            " flatten_9 (Flatten)         (None, 32768)             0         \n",
            "                                                                 \n",
            " dropout_5 (Dropout)         (None, 32768)             0         \n",
            "                                                                 \n",
            " dense_21 (Dense)            (None, 1024)              33555456  \n",
            "                                                                 \n",
            " dropout_6 (Dropout)         (None, 1024)              0         \n",
            "                                                                 \n",
            " dense_22 (Dense)            (None, 10)                10250     \n",
            "                                                                 \n",
            "=================================================================\n",
            "Total params: 33,845,130\n",
            "Trainable params: 33,844,298\n",
            "Non-trainable params: 832\n",
            "_________________________________________________________________\n"
          ]
        }
      ]
    }
  ],
  "metadata": {
    "accelerator": "GPU",
    "colab": {
      "provenance": [],
      "mount_file_id": "https://github.com/Behnam9473/AI/blob/main/CNN_CIFAR_10_Improved_Batch_Normalization_Data_Augmentaion.ipynb",
      "authorship_tag": "ABX9TyOYt2BSPnOcO7t9DsPfkaA0",
      "include_colab_link": true
    },
    "gpuClass": "standard",
    "kernelspec": {
      "display_name": "Python 3",
      "name": "python3"
    },
    "language_info": {
      "name": "python"
    }
  },
  "nbformat": 4,
  "nbformat_minor": 0
}