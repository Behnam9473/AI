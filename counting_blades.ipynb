{
  "nbformat": 4,
  "nbformat_minor": 0,
  "metadata": {
    "colab": {
      "provenance": [],
      "gpuType": "T4",
      "mount_file_id": "1bQjlmQrJneuqcDIu-CB_K2q7D_kO1Lmg",
      "authorship_tag": "ABX9TyMR64lnGOlWMipzpAfi9xJZ",
      "include_colab_link": true
    },
    "kernelspec": {
      "name": "python3",
      "display_name": "Python 3"
    },
    "language_info": {
      "name": "python"
    },
    "accelerator": "GPU"
  },
  "cells": [
    {
      "cell_type": "markdown",
      "metadata": {
        "id": "view-in-github",
        "colab_type": "text"
      },
      "source": [
        "<a href=\"https://colab.research.google.com/github/Behnam9473/AI/blob/main/counting_blades.ipynb\" target=\"_parent\"><img src=\"https://colab.research.google.com/assets/colab-badge.svg\" alt=\"Open In Colab\"/></a>"
      ]
    },
    {
      "cell_type": "code",
      "execution_count": null,
      "metadata": {
        "id": "gK5eiWvFoPGk"
      },
      "outputs": [],
      "source": []
    },
    {
      "cell_type": "code",
      "source": [
        "from google.colab import drive\n",
        "drive.mount('/content/drive')"
      ],
      "metadata": {
        "id": "W309ZvySoYQp"
      },
      "execution_count": null,
      "outputs": []
    },
    {
      "cell_type": "code",
      "source": [
        "import cv2\n",
        "import numpy as np\n",
        "from google.colab.patches import cv2_imshow"
      ],
      "metadata": {
        "id": "C0MPEh5dolP_"
      },
      "execution_count": 18,
      "outputs": []
    },
    {
      "cell_type": "code",
      "source": [
        "img = cv2.imread(\"/content/drive/MyDrive/input/vc.png\", 0)\n",
        "\n",
        "# Thresholding the image\n",
        "img = img[250:700,500:700]\n",
        "(thresh, img_bin) = cv2.threshold(img, 190, 255,cv2.THRESH_BINARY|     cv2.THRESH_OTSU)\n",
        "# Invert the image\n",
        "img_bin = 255-img_bin\n",
        "cv2_imshow(img_bin)"
      ],
      "metadata": {
        "colab": {
          "base_uri": "https://localhost:8080/",
          "height": 467
        },
        "id": "MCawxKcjovJR",
        "outputId": "d957c2b9-d886-45bd-c993-abbb9898ac19"
      },
      "execution_count": 38,
      "outputs": [
        {
          "output_type": "display_data",
          "data": {
            "text/plain": [
              "<PIL.Image.Image image mode=L size=200x450>"
            ],
            "image/png": "[encoded data removed]"
          },
          "metadata": {}
        }
      ]
    },
    {
      "cell_type": "code",
      "source": [
        "# Defining a kernel length\n",
        "kernel_length = np.array(img).shape[1]//80\n",
        "\n",
        "# A verticle kernel of (1 X kernel_length), which will detect all the verticle lines from the image.\n",
        "verticle_kernel = cv2.getStructuringElement(cv2.MORPH_RECT, (1, kernel_length))\n",
        "# A horizontal kernel of (kernel_length X 1), which will help to detect all the horizontal line from the image.\n",
        "hori_kernel = cv2.getStructuringElement(cv2.MORPH_RECT, (kernel_length, 1))\n",
        "# A kernel of (3 X 3) ones.\n",
        "kernel = cv2.getStructuringElement(cv2.MORPH_RECT, (3, 3))"
      ],
      "metadata": {
        "id": "QWXhLP0Zupz6"
      },
      "execution_count": 39,
      "outputs": []
    },
    {
      "cell_type": "code",
      "source": [
        "# Morphological operation to detect vertical lines from an image\n",
        "img_temp1 = cv2.erode(img_bin, verticle_kernel, iterations=3)\n",
        "verticle_lines_img = cv2.dilate(img_temp1, verticle_kernel, iterations=3)\n",
        "cv2.imwrite(\"verticle_lines.jpg\",verticle_lines_img)\n",
        "# Morphological operation to detect horizontal lines from an image\n",
        "img_temp2 = cv2.erode(img_bin, hori_kernel, iterations=3)\n",
        "horizontal_lines_img = cv2.dilate(img_temp2, hori_kernel, iterations=3)\n",
        "cv2.imwrite(\"horizontal_lines.jpg\",horizontal_lines_img)"
      ],
      "metadata": {
        "colab": {
          "base_uri": "https://localhost:8080/",
          "height": 917
        },
        "id": "d0y54pZaut7M",
        "outputId": "96795267-e68a-40f0-b393-07e0dca049ad"
      },
      "execution_count": 41,
      "outputs": [
        {
          "output_type": "display_data",
          "data": {
            "text/plain": [
              "<PIL.Image.Image image mode=L size=200x450>"
            ],
            "image/png": "[encoded data removed]"
          },
          "metadata": {}
        },
        {
          "output_type": "display_data",
          "data": {
            "text/plain": [
              "<PIL.Image.Image image mode=L size=200x450>"
            ],
            "image/png": "[encoded data removed]"
          },
          "metadata": {}
        }
      ]
    },
    {
      "cell_type": "code",
      "source": [
        "# Weighting parameters, this will decide the quantity of an image to be added to make a new image.\n",
        "alpha = 0.5\n",
        "beta = 1.0 - alpha\n",
        "# This function helps to add two image with specific weight parameter to get a third image as summation of two image.\n",
        "img_final_bin = cv2.addWeighted(verticle_lines_img, alpha, horizontal_lines_img, beta, 0.0)\n",
        "img_final_bin = cv2.erode(~img_final_bin, kernel, iterations=2)\n",
        "(thresh, img_final_bin) = cv2.threshold(img_final_bin, 128,255, cv2.THRESH_BINARY | cv2.THRESH_OTSU)\n",
        "cv2.imwrite(\"img_final_bin.jpg\",img_final_bin)"
      ],
      "metadata": {
        "colab": {
          "base_uri": "https://localhost:8080/"
        },
        "id": "mtphDETEvBqO",
        "outputId": "aaae1c34-cb80-4560-8b68-6abf02a06b2a"
      },
      "execution_count": 47,
      "outputs": [
        {
          "output_type": "execute_result",
          "data": {
            "text/plain": [
              "True"
            ]
          },
          "metadata": {},
          "execution_count": 47
        }
      ]
    },
    {
      "cell_type": "code",
      "source": [
        "# Find contours for image, which will detect all the boxes\n",
        "contours, hierarchy = cv2.findContours(img_final_bin, cv2.RETR_TREE, cv2.CHAIN_APPROX_SIMPLE)\n",
        "# Sort all the contours by top to bottom.\n",
        "#(contours, boundingBoxes) = sort_contours(contours, method=\"top-to-bottom\")\n",
        "idx = 0\n",
        "for c in contours:\n",
        "    # Returns the location and width,height for every contour\n",
        "    x, y, w, h = cv2.boundingRect(c)\n",
        "    if (w > 20 and h > 0) and w > 0.5*h:\n",
        "\n",
        "        idx += 1\n",
        "        new_img = img[y:y+h, x:x+w]\n",
        "        #cv2.imwrite(cropped_dir_path+str(idx) + '.png', new_img)\n",
        "        cv2_imshow(new_img)\n",
        "# If the box height is greater then 20, widht is >80, then only save it as a box in \"cropped/\" folder.\n",
        "    if (w > 20 and h > 0) and w > 0.5*h:\n",
        "        idx += 1\n",
        "        new_img = img[y:y+h, x:x+w]\n",
        "        #cv2.imwrite(cropped_dir_path+str(idx) + '.png', new_img)\n",
        "        cv2_imshow(new_img)"
      ],
      "metadata": {
        "colab": {
          "base_uri": "https://localhost:8080/",
          "height": 417
        },
        "id": "HwuQgLuBvLi9",
        "outputId": "27e7fed4-1768-4204-e1ad-55ac303ce081"
      },
      "execution_count": 69,
      "outputs": [
        {
          "output_type": "display_data",
          "data": {
            "text/plain": [
              "<PIL.Image.Image image mode=L size=100x100>"
            ],
            "image/png": "[encoded data removed]"
          },
          "metadata": {}
        },
        {
          "output_type": "display_data",
          "data": {
            "text/plain": [
              "<PIL.Image.Image image mode=L size=100x100>"
            ],
            "image/png": "[encoded data removed]"
          },
          "metadata": {}
        },
        {
          "output_type": "display_data",
          "data": {
            "text/plain": [
              "<PIL.Image.Image image mode=L size=101x100>"
            ],
            "image/png": "[encoded data removed]"
          },
          "metadata": {}
        },
        {
          "output_type": "display_data",
          "data": {
            "text/plain": [
              "<PIL.Image.Image image mode=L size=101x100>"
            ],
            "image/png": "[encoded data removed]"
          },
          "metadata": {}
        }
      ]
    }
  ]
}