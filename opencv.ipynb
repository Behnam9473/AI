{
  "nbformat": 4,
  "nbformat_minor": 0,
  "metadata": {
    "colab": {
      "provenance": [],
      "authorship_tag": "ABX9TyPiKmLjZk++LWNgbNX8DVP2",
      "include_colab_link": true
    },
    "kernelspec": {
      "name": "python3",
      "display_name": "Python 3"
    },
    "language_info": {
      "name": "python"
    },
    "gpuClass": "standard",
    "accelerator": "TPU"
  },
  "cells": [
    {
      "cell_type": "markdown",
      "metadata": {
        "id": "view-in-github",
        "colab_type": "text"
      },
      "source": [
        "<a href=\"https://colab.research.google.com/github/Behnam9473/AI/blob/main/opencv.ipynb\" target=\"_parent\"><img src=\"https://colab.research.google.com/assets/colab-badge.svg\" alt=\"Open In Colab\"/></a>"
      ]
    },
    {
      "cell_type": "code",
      "execution_count": 1,
      "metadata": {
        "id": "wYPTAyoG8Oew"
      },
      "outputs": [],
      "source": [
        "import cv2 \n"
      ]
    },
    {
      "cell_type": "code",
      "source": [
        "face_cascade = cv2.CascadeClassifier('haarcascade_frontalface_default.xml')\n",
        "eye_cascade = cv2.CascadeClassifier('haarcascade_eye.xml')"
      ],
      "metadata": {
        "id": "HbmJU_xglxEN"
      },
      "execution_count": 15,
      "outputs": []
    },
    {
      "cell_type": "code",
      "source": [
        "def face_detection(gray, frame):\n",
        "  face = face_cascade.detectMultiScale(gray, 1.3, 5) # face_cascade.detectMultiScale(source, scale, pixel neughbor)\n",
        "  for (x, y, w, h) in face:\n",
        "    cv2.rectangle(frame, (x, y), (x+w, y+h), (0, 255, 36), 2)\n",
        "    eye_gray = gray[y:y+h, x:x+w]\n",
        "    eye_color = frame[y:y+h, x:x+w]\n",
        "    eyes = face_cascade.detectMultuSclae(gray, 1.1, 5)\n",
        "    for (ex, ey, ew, eh) in face:\n",
        "      cv2.rectangle(eye_color, (ex, ey), (ex+ew, ey+eh), (255, 0, 0), 2)\n",
        "  return frame"
      ],
      "metadata": {
        "id": "63PISrG6mXXF"
      },
      "execution_count": 16,
      "outputs": []
    },
    {
      "cell_type": "code",
      "source": [
        "frames_capture = cv2.VideoCapture(0)\n",
        "while True:\n",
        "  _, frame = frames_capture.read()\n",
        "  gray = cv2.cvtColor(frame, cv2.COLOR_BGR2GRAY)\n",
        "  canvas = face_detection(gray, frame)\n",
        "  cv2.imshow(\"FRAMES\", canvas)\n",
        "  if cv2.waitKey(1) & 0xFF == ord('q'):\n",
        "    break\n",
        "\n",
        "frames_capture.release()\n",
        "cv2.destroyAllWindows()"
      ],
      "metadata": {
        "id": "5h-XHsSevYKp"
      },
      "execution_count": null,
      "outputs": []
    }
  ]
}